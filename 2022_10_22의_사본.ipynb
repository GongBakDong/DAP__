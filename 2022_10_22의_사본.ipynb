{
  "nbformat": 4,
  "nbformat_minor": 0,
  "metadata": {
    "colab": {
      "provenance": [],
      "collapsed_sections": [],
      "authorship_tag": "ABX9TyOJwvpIWJ1Sojb5bNc034SH",
      "include_colab_link": true
    },
    "kernelspec": {
      "name": "python3",
      "display_name": "Python 3"
    },
    "language_info": {
      "name": "python"
    }
  },
  "cells": [
    {
      "cell_type": "markdown",
      "metadata": {
        "id": "view-in-github",
        "colab_type": "text"
      },
      "source": [
        "<a href=\"https://colab.research.google.com/github/GongBakDong/DAP__/blob/main/2022_10_22%EC%9D%98_%EC%82%AC%EB%B3%B8.ipynb\" target=\"_parent\"><img src=\"https://colab.research.google.com/assets/colab-badge.svg\" alt=\"Open In Colab\"/></a>"
      ]
    },
    {
      "cell_type": "code",
      "execution_count": null,
      "metadata": {
        "id": "J0UnlFSZ0CVN",
        "colab": {
          "base_uri": "https://localhost:8080/"
        },
        "outputId": "8eab2270-ca29-4c7a-f354-ec883b4e16d2"
      },
      "outputs": [
        {
          "output_type": "stream",
          "name": "stdout",
          "text": [
            "22\n",
            "4\n"
          ]
        }
      ],
      "source": [
        "a = '2' #' ' 는 문자열. ' ' 안에 무슨 언어가 들어가도 들어간 그대로 보여주는 껍데기\n",
        "a *= 2\n",
        "print(a)\n",
        "\n",
        "a = 2\n",
        "a *= 2\n",
        "print(a)"
      ]
    },
    {
      "cell_type": "code",
      "source": [
        "b = ['가','나','다','라'] #리스트의 크기는 4. 인덱스는 b[0],b[1],b[2],b[3]\n",
        "print(b[1]) #인덱스로 리스트 요소 호출 시, [나] X, 나 O\n",
        "print(b[:4])\n",
        "print(b[-2:-1])"
      ],
      "metadata": {
        "id": "C8-hI-CX0JwW",
        "colab": {
          "base_uri": "https://localhost:8080/"
        },
        "outputId": "d98aec09-7c38-4709-fecd-8ee79510db7e"
      },
      "execution_count": null,
      "outputs": [
        {
          "output_type": "stream",
          "name": "stdout",
          "text": [
            "나\n",
            "['가', '나', '다', '라']\n",
            "['다']\n"
          ]
        }
      ]
    },
    {
      "cell_type": "code",
      "source": [
        "c = 77 #int 정수형\n",
        "print(c)\n",
        "print(type(c)) \n",
        "\n",
        "c = float(c) #float 은 소수점이 없더라도, 첫 번째 소수점 까지는 출력\n",
        "print(c)\n",
        "\n",
        "c = bool(c) #bool은 0 제외 다 True (아마)\n",
        "print(c)\n",
        "\n",
        "c = str(c) #string 문자열\n",
        "c *= 5\n",
        "print(c)\n",
        "\n"
      ],
      "metadata": {
        "id": "N4jF2F4U1Pgz",
        "colab": {
          "base_uri": "https://localhost:8080/"
        },
        "outputId": "4a4d8905-a0e0-4f1b-f79b-8f7354992832"
      },
      "execution_count": null,
      "outputs": [
        {
          "output_type": "stream",
          "name": "stdout",
          "text": [
            "77\n",
            "<class 'int'>\n",
            "77.0\n",
            "True\n",
            "TrueTrueTrueTrueTrue\n"
          ]
        }
      ]
    },
    {
      "cell_type": "code",
      "source": [
        "day = '일요일'\n",
        "d = \"오늘은 {} 입니다.\".format(day) #format에 쫄지말고 눈치껏!\n",
        "print(d)\n",
        "\n",
        "d = 'Sunday'\n",
        "d = d.upper()\n",
        "print(d)\n",
        "d = d.lower()\n",
        "print(d)"
      ],
      "metadata": {
        "id": "kdNLpoMk2vdl",
        "colab": {
          "base_uri": "https://localhost:8080/"
        },
        "outputId": "876cf330-d858-4e40-f582-f01d30ee858b"
      },
      "execution_count": null,
      "outputs": [
        {
          "output_type": "stream",
          "name": "stdout",
          "text": [
            "오늘은 일요일 입니다.\n",
            "SUNDAY\n",
            "sunday\n"
          ]
        }
      ]
    },
    {
      "cell_type": "code",
      "source": [
        "f = 'Hi H I'\n",
        "print(f)\n",
        "f = f.split() #split의 사전적 의미는 분할!\n",
        "print(f)"
      ],
      "metadata": {
        "id": "iDpnFVQW3Pzu",
        "colab": {
          "base_uri": "https://localhost:8080/"
        },
        "outputId": "8a8e0ff6-0005-4939-8349-33f42b45f9a1"
      },
      "execution_count": null,
      "outputs": [
        {
          "output_type": "stream",
          "name": "stdout",
          "text": [
            "Hi H I\n",
            "['Hi', 'H', 'I']\n"
          ]
        }
      ]
    },
    {
      "cell_type": "code",
      "source": [
        "e = 2\n",
        "if(e != 2):\n",
        "  print(1)\n",
        "else:\n",
        "  print(0)\n",
        "\n",
        "e1='지'\n",
        "e2='민'\n",
        "\n",
        "print(e1 == e2)\n",
        "print(e1 >= e2) #가나다라 순으로 된 문자열은 뒤일수록 숫자가 커짐. 간단하게 가 = 1, 나 = 2, 다 = 3 ...etc 등으로 생각하면 편함\n",
        "print(e1 <= e2)"
      ],
      "metadata": {
        "id": "CA9GFBm94Z74",
        "colab": {
          "base_uri": "https://localhost:8080/"
        },
        "outputId": "b2c24b2c-cc1a-49e2-835f-b68f365e54e1"
      },
      "execution_count": null,
      "outputs": [
        {
          "output_type": "stream",
          "name": "stdout",
          "text": [
            "0\n",
            "False\n",
            "True\n",
            "False\n"
          ]
        }
      ]
    },
    {
      "cell_type": "code",
      "source": [
        "for i in range(0,4,2): #(시작점, 끝점+!, 간격) 뒤에 2 보고 눈치껏\n",
        "  print(i)\n",
        "\n",
        "for i in range(12,7,-2):\n",
        "  print(i)"
      ],
      "metadata": {
        "id": "096vQ_655w8U",
        "colab": {
          "base_uri": "https://localhost:8080/"
        },
        "outputId": "97a85f7c-9417-4262-ae55-f63afd2e0dbd"
      },
      "execution_count": null,
      "outputs": [
        {
          "output_type": "stream",
          "name": "stdout",
          "text": [
            "0\n",
            "2\n",
            "12\n",
            "10\n",
            "8\n"
          ]
        }
      ]
    },
    {
      "cell_type": "code",
      "source": [
        "for i in range(0,3):\n",
        "  print('iiiii값 출력',i)\n",
        "  for j in range(0,4):\n",
        "    print('j값 출력',j)"
      ],
      "metadata": {
        "id": "LdjtjNUW6PvL",
        "colab": {
          "base_uri": "https://localhost:8080/"
        },
        "outputId": "a159bcf2-c999-41e2-c35b-3ec84369886e"
      },
      "execution_count": null,
      "outputs": [
        {
          "output_type": "stream",
          "name": "stdout",
          "text": [
            "iiiii값 출력 0\n",
            "j값 출력 0\n",
            "j값 출력 1\n",
            "j값 출력 2\n",
            "j값 출력 3\n",
            "iiiii값 출력 1\n",
            "j값 출력 0\n",
            "j값 출력 1\n",
            "j값 출력 2\n",
            "j값 출력 3\n",
            "iiiii값 출력 2\n",
            "j값 출력 0\n",
            "j값 출력 1\n",
            "j값 출력 2\n",
            "j값 출력 3\n"
          ]
        }
      ]
    },
    {
      "cell_type": "markdown",
      "source": [
        "i = 0 \n",
        "> j = 0,1,2,3\n",
        "\n",
        "i = 1\n",
        "> j = 0,1,2,3\n",
        "\n",
        "i = 2\n",
        "> j = 0,1,2,3\n",
        "\n",
        "i = 3 <- 2보다 크기 때문에 for문 종료\n",
        "\n",
        "\n",
        "for문안의 for문(=들여쓰기 된)은 순환할 때마다 계속해서 반복"
      ],
      "metadata": {
        "id": "BQoi_pGGHoR1"
      }
    },
    {
      "cell_type": "code",
      "source": [
        "i = 1\n",
        "while i<=6: #빈칸 뚫고 비교연산자나 조건 자체를 물어볼 확률 있음\n",
        "  i +=1\n",
        "  print('7까지 출력합니다.',i)"
      ],
      "metadata": {
        "id": "1wUOP9B76tvJ",
        "colab": {
          "base_uri": "https://localhost:8080/"
        },
        "outputId": "9185749f-1882-40d0-cf3e-590d69dada52"
      },
      "execution_count": null,
      "outputs": [
        {
          "output_type": "stream",
          "name": "stdout",
          "text": [
            "7까지 출력합니다. 2\n",
            "7까지 출력합니다. 3\n",
            "7까지 출력합니다. 4\n",
            "7까지 출력합니다. 5\n",
            "7까지 출력합니다. 6\n",
            "7까지 출력합니다. 7\n"
          ]
        }
      ]
    },
    {
      "cell_type": "code",
      "source": [
        "for i in range(1,10):\n",
        "  if(i%2==1): # %는 나머지 /는 나눗셈 , /에 비해 %가 획수가 많으니 나머지로 외우면 편함\n",
        "    print(i,' 홀수')\n",
        "  else: #i%2==0\n",
        "    print(i, ' 짝수')"
      ],
      "metadata": {
        "id": "HhmWDKct7Lfo",
        "colab": {
          "base_uri": "https://localhost:8080/"
        },
        "outputId": "422bba25-2dfa-4b59-c3fa-2834cdd73acc"
      },
      "execution_count": null,
      "outputs": [
        {
          "output_type": "stream",
          "name": "stdout",
          "text": [
            "1  홀수\n",
            "2  짝수\n",
            "3  홀수\n",
            "4  짝수\n",
            "5  홀수\n",
            "6  짝수\n",
            "7  홀수\n",
            "8  짝수\n",
            "9  홀수\n"
          ]
        }
      ]
    },
    {
      "cell_type": "code",
      "source": [
        "a = 100 #전역변수\n",
        "\n",
        "def func1(): #함수를 정의하는 것은. 내가 필요할때마다 쓸 수 있는 도구를 제작하는 것. 도구를 제작한다고 사용되는 것이 아닌 것 처럼 작동하지 않으며, 도구를 사용한다고 말해야(함수호출) 함수가 작동한다\n",
        "  a = 1 #지역변수\n",
        "  print(a)\n",
        "  \n",
        "def func2():\n",
        "  print(a)\n",
        "\n",
        "func1() #함수호출\n",
        "func2() #함수호출"
      ],
      "metadata": {
        "id": "jsdPYN86DRVH",
        "colab": {
          "base_uri": "https://localhost:8080/"
        },
        "outputId": "85ca666c-15ab-4c46-948b-4bfd9b5cd93b"
      },
      "execution_count": null,
      "outputs": [
        {
          "output_type": "stream",
          "name": "stdout",
          "text": [
            "1\n",
            "100\n"
          ]
        }
      ]
    },
    {
      "cell_type": "code",
      "source": [
        "a = 10\n",
        "x = 0\n",
        "def func3(x): #(a==x)라는 뜻을 내재!\n",
        "  print(a)\n",
        "  print(x)\n",
        "\n",
        "\n",
        "print(x) #전역변수 x의 값을 출력하겠지요\n",
        "\n",
        "\n",
        "func3(a)\n"
      ],
      "metadata": {
        "id": "mq_cu6C4Fefw",
        "colab": {
          "base_uri": "https://localhost:8080/"
        },
        "outputId": "bb99c1e5-b3de-4449-9d34-f08138975814"
      },
      "execution_count": null,
      "outputs": [
        {
          "output_type": "stream",
          "name": "stdout",
          "text": [
            "0\n",
            "10\n",
            "10\n"
          ]
        }
      ]
    },
    {
      "cell_type": "code",
      "source": [
        "def printhello(name='Tom', msg = 'How are u?'): #(name,msg)라는 두개의 인자를 받았지만, Default 값을 설정하여 ('tom','how r u') 인자가 들어오지 않았을 때 default 값을 출력하게 만들어짐\n",
        "#마치 a = 0 에서 1을 출력하고 싶다면 a = 1 이라고 변수에 덮어써줘야하지만, 덮어쓰지 않는다면 0이 되는 개념과 동일\n",
        "  print('Hi',name,msg)\n",
        "\n",
        "printhello()\n",
        "printhello('jimin') #Tom에 덮어쓰기\n",
        "printhello('alice','im fine')"
      ],
      "metadata": {
        "id": "rudKinxtF5q0",
        "colab": {
          "base_uri": "https://localhost:8080/"
        },
        "outputId": "8060a392-458c-4c10-ab19-304d31d933d2"
      },
      "execution_count": null,
      "outputs": [
        {
          "output_type": "stream",
          "name": "stdout",
          "text": [
            "Hi Tom How are u?\n",
            "Hi jimin How are u?\n",
            "Hi alice im fine\n"
          ]
        }
      ]
    },
    {
      "cell_type": "code",
      "source": [
        "def printnum(*num): #가변인자.. 아시니까 넘기겠습니다\n",
        "  print(num)\n",
        "\n",
        "a = 1\n",
        "b = 2\n",
        "c = 3\n",
        "d = [4,5,6]\n",
        "printnum(a,b,c,d)"
      ],
      "metadata": {
        "id": "S4TDl9GFGxDh",
        "colab": {
          "base_uri": "https://localhost:8080/"
        },
        "outputId": "d3cfc0ba-70fd-41a3-af6e-8bb5829b2771"
      },
      "execution_count": null,
      "outputs": [
        {
          "output_type": "stream",
          "name": "stdout",
          "text": [
            "(1, 2, 3, [4, 5, 6])\n"
          ]
        }
      ]
    },
    {
      "cell_type": "code",
      "source": [
        "def facto(n):\n",
        "  result = 1\n",
        "  for i in range(1, n+1):\n",
        "    result *= i #for문 반복동안 계속해서 값을 축적\n",
        "  \n",
        "  return result #result 는 함수 내에 선언된 변수이기 때문에 result 반환\n",
        "\n",
        "print(facto(4))"
      ],
      "metadata": {
        "id": "e6nb48y_HWw2",
        "colab": {
          "base_uri": "https://localhost:8080/"
        },
        "outputId": "60f3d79b-c7c0-457a-a75c-a78a524dc9b8"
      },
      "execution_count": null,
      "outputs": [
        {
          "output_type": "stream",
          "name": "stdout",
          "text": [
            "24\n"
          ]
        }
      ]
    },
    {
      "cell_type": "code",
      "source": [
        "a = [1,2,3,4]\n",
        "print(len(a)) #length\n",
        "\n",
        "print(a[1])\n",
        "print(a[-1])"
      ],
      "metadata": {
        "id": "A59u77LkH55w",
        "colab": {
          "base_uri": "https://localhost:8080/"
        },
        "outputId": "8ee9d37c-cdbd-4d7e-ec5b-32802a2d205c"
      },
      "execution_count": null,
      "outputs": [
        {
          "output_type": "stream",
          "name": "stdout",
          "text": [
            "4\n",
            "2\n",
            "4\n"
          ]
        }
      ]
    },
    {
      "cell_type": "code",
      "source": [
        "abc = []\n",
        "abc.append('a')\n",
        "print(abc)\n",
        "abc.append('b')\n",
        "abc.append('a')\n",
        "print(abc)\n",
        "abc.pop() #자료구조를 텀블러와 같다고 생각하면 편함\n",
        "print(abc) #pop으로 값을 빼내고, 남은 값 출력"
      ],
      "metadata": {
        "id": "F3TMCojDIPmN",
        "colab": {
          "base_uri": "https://localhost:8080/"
        },
        "outputId": "a5ef3acc-420c-4838-af85-dfda730062ea"
      },
      "execution_count": null,
      "outputs": [
        {
          "output_type": "stream",
          "name": "stdout",
          "text": [
            "['a']\n",
            "['a', 'b', 'a']\n",
            "['a', 'b']\n"
          ]
        }
      ]
    },
    {
      "cell_type": "code",
      "source": [
        "num = [1,2,3,4,5,6]\n",
        "print(num[::-1]) #역으로 출력 \n",
        "num[:3] = [0,0,0]\n",
        "print(num)"
      ],
      "metadata": {
        "id": "TCxgFIk_I_9d",
        "colab": {
          "base_uri": "https://localhost:8080/"
        },
        "outputId": "a14333ee-f30d-4067-fce9-1b928c32ad57"
      },
      "execution_count": null,
      "outputs": [
        {
          "output_type": "stream",
          "name": "stdout",
          "text": [
            "[6, 5, 4, 3, 2, 1]\n",
            "[0, 0, 0, 4, 5, 6]\n"
          ]
        }
      ]
    },
    {
      "cell_type": "code",
      "source": [
        "sqares = [x*x for x in range(10)] # 눈치껏 맨 앞은 수행문, 그 뒤로는 for문\n",
        "print(sqares)\n",
        "\n",
        "squares_2 = [] #같은 수행 방식임\n",
        "for x in range(10):\n",
        "  squares_2.append(x*x)\n",
        "print(squares_2) "
      ],
      "metadata": {
        "colab": {
          "base_uri": "https://localhost:8080/"
        },
        "id": "5_ikptVEKvzA",
        "outputId": "c8f0912a-95b7-4308-b213-9688ae2ae4c4"
      },
      "execution_count": null,
      "outputs": [
        {
          "output_type": "stream",
          "name": "stdout",
          "text": [
            "[0, 1, 4, 9, 16, 25, 36, 49, 64, 81]\n",
            "[0, 1, 4, 9, 16, 25, 36, 49, 64, 81]\n"
          ]
        }
      ]
    },
    {
      "cell_type": "markdown",
      "source": [
        "말이 2차원 리스트지, 그냥 고등학생때 풀던 표 생각하면 편함 \n",
        "  "
      ],
      "metadata": {
        "id": "p7nuYfMYL6wl"
      }
    },
    {
      "cell_type": "code",
      "source": [
        "#2차원 리스트\n",
        "s = [ [1,2,3,4], #1행 (인덱스는 0)\n",
        "     [5,6,7,8], #2행 (인덱스는 1)\n",
        "     [9,10,11,12]] #3행 (인덱스는 2)\n",
        "    # 1열 2열 3열 4열\n",
        "print(s)\n",
        "print(s[0]) #인덱스 0 == 1행 출력\n",
        "print(s[0][1]) #1번쨰 인덱스 0 , 2번째 인덱스 1. == 1행 2열 출력\n",
        "\n",
        "#파이썬 0603 13p 보면 이해가 쉬울거에요"
      ],
      "metadata": {
        "colab": {
          "base_uri": "https://localhost:8080/"
        },
        "id": "L6e-aXRBLmvR",
        "outputId": "0fad0aed-ddad-462b-bdc6-32b973d3d927"
      },
      "execution_count": null,
      "outputs": [
        {
          "output_type": "stream",
          "name": "stdout",
          "text": [
            "[[1, 2, 3, 4], [5, 6, 7, 8], [9, 10, 11, 12]]\n",
            "[1, 2, 3, 4]\n",
            "2\n"
          ]
        }
      ]
    },
    {
      "cell_type": "code",
      "source": [
        "#0703 튜플은 ppt 몇번 읽어주세요!"
      ],
      "metadata": {
        "id": "cV7dnOiXNBH3"
      },
      "execution_count": null,
      "outputs": []
    }
  ]
}